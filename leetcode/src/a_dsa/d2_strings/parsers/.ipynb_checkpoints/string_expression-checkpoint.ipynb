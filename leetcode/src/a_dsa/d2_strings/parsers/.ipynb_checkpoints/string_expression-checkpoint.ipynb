{
 "cells": [
  {
   "cell_type": "markdown",
   "metadata": {},
   "source": [
    "### LC726. Number of Atoms\n",
    "Given a chemical formula (given as a string), return the count of each atom.\n",
    "\n",
    "The atomic element always starts with an uppercase character, then zero or more\n",
    "lowercase letters, representing the name.\n",
    "\n",
    "One or more digits representing that element's count may follow if the count is\n",
    "greater than 1. If the count is 1, no digits will follow. For example, H2O and\n",
    "H2O2 are possible, but H1O2 is impossible.\n",
    "\n",
    "Two formulas concatenated together to produce another formula. For example,\n",
    "H2O2He3Mg4 is also a formula.\n",
    "\n",
    "A formula placed in parentheses, and a count (optionally added) is also a\n",
    "formula. For example, (H2O2) and (H2O2)3 are formulas.\n",
    "\n",
    "Given a formula, return the count of all elements as a string in the following\n",
    "form: the first name (in sorted order), followed by its count (if that count is\n",
    "more than 1), followed by the second name (in sorted order), followed by its\n",
    "count (if that count is more than 1), and so on.\n",
    "\n",
    "Example 1:\n",
    "\n",
    "Input: formula = \"H2O\"\n",
    "Output: \"H2O\"\n",
    "Explanation: The count of elements are {'H': 2, 'O': 1}.\n",
    "\n",
    "Example 2:\n",
    "\n",
    "Input: formula = \"Mg(OH)2\"\n",
    "Output: \"H2MgO2\"\n",
    "Explanation: The count of elements are {'H': 2, 'Mg': 1, 'O': 2}.\n",
    "\n",
    "Example 3:\n",
    "\n",
    "Input: formula = \"K4(ON(SO3)2)2\"\n",
    "Output: \"K4N2O14S4\"\n",
    "Explanation: The count of elements are {'K': 4, 'N': 2, 'O': 14, 'S': 4}.\n",
    "\n",
    "Example 4:\n",
    "\n",
    "Input: formula = \"Be32\"\n",
    "Output: \"Be32\"\n",
    "\n",
    "Constraints:\n",
    "\n",
    "    1 <= formula.length <= 1000\n",
    "    formula consists of English letters, digits, '(', and ')'.\n",
    "    formula is always valid.\n"
   ]
  },
  {
   "cell_type": "markdown",
   "metadata": {},
   "source": [
    "This is a parsing questions. With parenthesis, we need a tack"
   ]
  },
  {
   "cell_type": "code",
   "execution_count": null,
   "metadata": {
    "pycharm": {
     "name": "#%%\n"
    }
   },
   "outputs": [],
   "source": [
    "import collections\n",
    "class Solution:\n",
    "    def countOfAtoms(self, formula: str) -> str:\n",
    "        counts = collections.defaultdict(int)\n",
    "        res, atom = 0, ''\n",
    "        stack = []\n",
    "        coeff = 0"
   ]
  },
  {
   "cell_type": "markdown",
   "metadata": {
    "pycharm": {
     "name": "#%% md\n"
    }
   },
   "source": [
    "Runtime: O(n)\n",
    "\n",
    "Space: O(n)\n",
    "\n",
    "Tags:\n",
    "##### Parsing\n"
   ]
  }
 ],
 "metadata": {
  "kernelspec": {
   "display_name": "Python 3",
   "language": "python",
   "name": "python3"
  },
  "language_info": {
   "codemirror_mode": {
    "name": "ipython",
    "version": 3
   },
   "file_extension": ".py",
   "mimetype": "text/x-python",
   "name": "python",
   "nbconvert_exporter": "python",
   "pygments_lexer": "ipython3",
   "version": "3.8.5"
  }
 },
 "nbformat": 4,
 "nbformat_minor": 1
}
